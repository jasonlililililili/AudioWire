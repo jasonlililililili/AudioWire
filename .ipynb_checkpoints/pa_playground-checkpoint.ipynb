{
 "cells": [
  {
   "cell_type": "code",
   "execution_count": 1,
   "id": "d362dbfe-0d49-4b24-880c-369b3f9e4c2f",
   "metadata": {},
   "outputs": [],
   "source": [
    "import pyaudio as pa"
   ]
  },
  {
   "cell_type": "code",
   "execution_count": 2,
   "id": "bacaf0c0-73fc-49ea-9436-aac9f88e9b0b",
   "metadata": {},
   "outputs": [],
   "source": [
    "p = pa.PyAudio()"
   ]
  },
  {
   "cell_type": "code",
   "execution_count": null,
   "id": "9151b575-4133-4892-8a3c-fd07fb5fc322",
   "metadata": {},
   "outputs": [],
   "source": []
  }
 ],
 "metadata": {
  "kernelspec": {
   "display_name": "Python 3 (ipykernel)",
   "language": "python",
   "name": "python3"
  },
  "language_info": {
   "codemirror_mode": {
    "name": "ipython",
    "version": 3
   },
   "file_extension": ".py",
   "mimetype": "text/x-python",
   "name": "python",
   "nbconvert_exporter": "python",
   "pygments_lexer": "ipython3",
   "version": "3.9.13"
  }
 },
 "nbformat": 4,
 "nbformat_minor": 5
}
